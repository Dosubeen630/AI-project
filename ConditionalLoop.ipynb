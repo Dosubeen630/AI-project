{
  "nbformat": 4,
  "nbformat_minor": 0,
  "metadata": {
    "colab": {
      "provenance": [],
      "authorship_tag": "ABX9TyNUTgbxuPJ8i/+uVaQmhq0e",
      "include_colab_link": true
    },
    "kernelspec": {
      "name": "python3",
      "display_name": "Python 3"
    },
    "language_info": {
      "name": "python"
    }
  },
  "cells": [
    {
      "cell_type": "markdown",
      "metadata": {
        "id": "view-in-github",
        "colab_type": "text"
      },
      "source": [
        "<a href=\"https://colab.research.google.com/github/Dosubeen630/AI-project/blob/main/ConditionalLoop.ipynb\" target=\"_parent\"><img src=\"https://colab.research.google.com/assets/colab-badge.svg\" alt=\"Open In Colab\"/></a>"
      ]
    },
    {
      "cell_type": "markdown",
      "source": [
        "**학점 프로그램 만들어보기**\n",
        "1. **생각해 보아야 할것들** <br>\n",
        "  1) 점수에 따른 학점의 기준을 만든다. 예) 95점이상 A+, 60점 미만 F <br>\n",
        "  2) 기준을 바탕으로 첫번째 줄의 점수를 판단한다. 예) 38점은 60점 미만이므로 F <br>\n",
        "  3) 다음 줄로 계속 이동하면서 2)를 반복한다.<br>\n",
        "  4) 더 이상 점수가 없을때 프로그램을 종료한다. <br>\n",
        "  <br> **중요사항 !! 프로그램 작성시,조건에 따른 판단과 반복은 필수**\n",
        "\n",
        "2. **조건문이란?**\n",
        "  - 조건에 따라 특정한 동작을 하게 하는 명령어\n",
        "  - 프로그램 예시 in 생활\n",
        "    * 지하철 앞 차 간격이 10미터 이하면 속도를 10km이하로 늦춰라.\n",
        "    * 사용자가 20세 이하면 VOD를 플레이 하지마라.\n",
        "    * 휴대폰 패턴이 5회 틀리면 20초 동안 대기 상태로 만들어라.\n",
        "  - 조건문은 **조건을 나타내는 기준**과 **실행해야 하는 명령어**로 구성됨\n",
        "  - 조건의 참과 거짓에 따라 실행해야 할 명령이 수행되거나 되지 않음.\n",
        "  - 파이썬은 조건문으로 if, else, elif 등의 예약어를 사용함.\n"
      ],
      "metadata": {
        "id": "hx1ZNbfITWSj"
      }
    },
    {
      "cell_type": "markdown",
      "source": [
        " **if-else문 문법**\n",
        " if<조건> :          # if를 쓰고 조건 삽입 후 \":\" 입력 <br>\n",
        "    <수행명령 1-1>    # 들여쓰기(indentation)후 수행명령 입력 <br>\n",
        "    <수행명령 1-2>    # 같은 조건하에 실행일 경우 들여쓰기 유지 <br>\n",
        " else:              # 조건이 불일치 시 수행할 명령 입력 <br>\n",
        "    <수행명령 2-1>    # 조건이 불일치 시 수행할 명령 입력 <br>\n",
        "    <수행명령 2-2>    # 조건이 불일치 시 수행할 명령 들여쓰기 유지 <br>\n",
        "\n",
        "\n",
        " **조건 판단 방법**\n",
        " - 조건 일치 시 수행명령 블록\":\" 와 들여쓰기\n",
        " - 조건 불일치 시 수행명령 블록   "
      ],
      "metadata": {
        "id": "fwjYDBq1WUx2"
      }
    },
    {
      "cell_type": "code",
      "source": [
        "print(\"Tell me your age?\")\n",
        "myage = int(input())\n",
        "if myage < 30:\n",
        "  print(\"Welcome to the Club\")\n",
        "else:\n",
        "  print(\"Oh! no. You are not accepted\")"
      ],
      "metadata": {
        "colab": {
          "base_uri": "https://localhost:8080/"
        },
        "id": "EHAzAJ4iT7ur",
        "outputId": "71ea5d11-92c6-461f-e725-496f40f21a16"
      },
      "execution_count": 2,
      "outputs": [
        {
          "output_type": "stream",
          "name": "stdout",
          "text": [
            "Tell me your age?\n",
            "40\n",
            "Oh! no. You are not accepted\n"
          ]
        }
      ]
    },
    {
      "cell_type": "code",
      "source": [
        "a = 100\n",
        "b = 100\n",
        "a == b\n",
        "a is b"
      ],
      "metadata": {
        "colab": {
          "base_uri": "https://localhost:8080/"
        },
        "id": "yKQNLornZisx",
        "outputId": "9b177053-fb42-4dbf-a04a-be22df853ff6"
      },
      "execution_count": 4,
      "outputs": [
        {
          "output_type": "execute_result",
          "data": {
            "text/plain": [
              "True"
            ]
          },
          "metadata": {},
          "execution_count": 4
        }
      ]
    },
    {
      "cell_type": "code",
      "source": [
        "a = 300\n",
        "b = 300\n",
        "a == b\n",
        "a is b # is 연산은 메모리의 주소를 비교함."
      ],
      "metadata": {
        "colab": {
          "base_uri": "https://localhost:8080/"
        },
        "id": "LhSJoyG9ZxMM",
        "outputId": "4fd58fc5-f4a7-40b2-8ba7-f19559dbe70c"
      },
      "execution_count": 6,
      "outputs": [
        {
          "output_type": "execute_result",
          "data": {
            "text/plain": [
              "False"
            ]
          },
          "metadata": {},
          "execution_count": 6
        }
      ]
    },
    {
      "cell_type": "markdown",
      "source": [
        " 위의 코드에서 100은 True 인데 왜 값이 300이면 False가 나올까? <br>\n",
        " 그것은 파이썬이 -5에서 256까지는 같은 공간에 저장하기 때문<br>\n",
        " (파이썬이 너무 느려서 이 범위를 벗어나는 수는 새로운 공간을 다시 만들어서 저장하기 때문에)<br>\n",
        " -5에서256 까지의 수는 자주 쓰는 수여서 정적메모리( 아예 공간을 미리 잡아둠) <br>\n",
        " **기억해둘것!!**\n",
        " <br> - 파이썬의 is 비교는 값과 메모리주소를 비교하는 연산 <br>\n",
        "      - -5에서 256 까지의 수는 같은 메모리 공간을 사용하기 때문에 이 범위 숫자는 is 연산 비교시 같다고 나온다.\n"
      ],
      "metadata": {
        "id": "7gmx6TDpa-xH"
      }
    },
    {
      "cell_type": "code",
      "source": [
        " a = [1,2,3,4,5]\n",
        " b = a[:]\n",
        " a\n",
        " b\n",
        " a is b # a와b는 같은 값을 가지고 있지만 같은 메모리 주소는 아니다."
      ],
      "metadata": {
        "colab": {
          "base_uri": "https://localhost:8080/"
        },
        "id": "cU82OgDSaFUw",
        "outputId": "525b0b60-2e56-4641-e40b-3a198cfe57b5"
      },
      "execution_count": 8,
      "outputs": [
        {
          "output_type": "execute_result",
          "data": {
            "text/plain": [
              "False"
            ]
          },
          "metadata": {},
          "execution_count": 8
        }
      ]
    },
    {
      "cell_type": "code",
      "source": [
        "a\n",
        "b = a\n",
        "a is b"
      ],
      "metadata": {
        "colab": {
          "base_uri": "https://localhost:8080/"
        },
        "id": "Qf4cXzzcak7F",
        "outputId": "f3944bfa-1973-49c6-cd80-fda60a471f27"
      },
      "execution_count": 10,
      "outputs": [
        {
          "output_type": "execute_result",
          "data": {
            "text/plain": [
              "True"
            ]
          },
          "metadata": {},
          "execution_count": 10
        }
      ]
    },
    {
      "cell_type": "code",
      "source": [
        "if 1:\n",
        "  print(\"Hello\")\n",
        "else:\n",
        "  print(\"Good Bye\")"
      ],
      "metadata": {
        "colab": {
          "base_uri": "https://localhost:8080/"
        },
        "id": "rdxWAr_0ckCm",
        "outputId": "9fd765d7-9d2f-477b-d3f0-e25e6d1e01f6"
      },
      "execution_count": 12,
      "outputs": [
        {
          "output_type": "stream",
          "name": "stdout",
          "text": [
            "Hello\n"
          ]
        }
      ]
    },
    {
      "cell_type": "code",
      "source": [
        "## 논리 키워드 사용 and,or, not\n",
        "# 조건문을 표현할때, 집합의 논리 키워드와 함께 사용하여 참과 거짓을 판단하기도 함\n",
        "\n",
        "a = 8, b = 5\n",
        "if a == 8 and b == 4  # 거짓\n",
        "if a > 7 or b >7 #참\n",
        "if not (a>7)  #거짓 , a>7인 것이 참이므로 거짓으로 판단됨."
      ],
      "metadata": {
        "id": "iTlrp_PXc30P"
      },
      "execution_count": null,
      "outputs": []
    },
    {
      "cell_type": "code",
      "source": [
        "a = True\n",
        "b = True\n",
        "a and b"
      ],
      "metadata": {
        "colab": {
          "base_uri": "https://localhost:8080/"
        },
        "id": "3LYTxvtceHx3",
        "outputId": "f9a1b690-6299-4390-bbae-b81fa91803b9"
      },
      "execution_count": 14,
      "outputs": [
        {
          "output_type": "execute_result",
          "data": {
            "text/plain": [
              "True"
            ]
          },
          "metadata": {},
          "execution_count": 14
        }
      ]
    },
    {
      "cell_type": "code",
      "source": [
        "a = True\n",
        "b = False\n",
        "a and b"
      ],
      "metadata": {
        "colab": {
          "base_uri": "https://localhost:8080/"
        },
        "id": "_GiBUBHLeUPL",
        "outputId": "2d2dfc5f-23da-4f6d-a6b1-00d69ce8a440"
      },
      "execution_count": 15,
      "outputs": [
        {
          "output_type": "execute_result",
          "data": {
            "text/plain": [
              "False"
            ]
          },
          "metadata": {},
          "execution_count": 15
        }
      ]
    },
    {
      "cell_type": "code",
      "source": [
        "a = True\n",
        "b = False\n",
        "a or b"
      ],
      "metadata": {
        "colab": {
          "base_uri": "https://localhost:8080/"
        },
        "id": "EOEEKHRZeecu",
        "outputId": "7acbaf7e-ce29-4775-8a51-2a4615d9a5a5"
      },
      "execution_count": 16,
      "outputs": [
        {
          "output_type": "execute_result",
          "data": {
            "text/plain": [
              "True"
            ]
          },
          "metadata": {},
          "execution_count": 16
        }
      ]
    },
    {
      "cell_type": "code",
      "source": [
        "boollean_list = [True, False, True, False, True]\n",
        "all(boollean_list) #all 은 and 조건"
      ],
      "metadata": {
        "colab": {
          "base_uri": "https://localhost:8080/"
        },
        "id": "0IfOrIcLempw",
        "outputId": "ae19a5b6-a93e-4814-d5c3-45fc5381cd5a"
      },
      "execution_count": 17,
      "outputs": [
        {
          "output_type": "execute_result",
          "data": {
            "text/plain": [
              "False"
            ]
          },
          "metadata": {},
          "execution_count": 17
        }
      ]
    },
    {
      "cell_type": "code",
      "source": [
        "boollean_list = [True, False, True, False, True]\n",
        "any(boollean_list) #any 은 or 조건"
      ],
      "metadata": {
        "colab": {
          "base_uri": "https://localhost:8080/"
        },
        "id": "6mOwFJLNe-rB",
        "outputId": "3503a325-106a-4f21-a7f9-4e7e99fdf700"
      },
      "execution_count": 18,
      "outputs": [
        {
          "output_type": "execute_result",
          "data": {
            "text/plain": [
              "True"
            ]
          },
          "metadata": {},
          "execution_count": 18
        }
      ]
    },
    {
      "cell_type": "code",
      "source": [
        "value = 12\n",
        "is_even = True if value % 2 == 0 else False\n",
        "is_even"
      ],
      "metadata": {
        "colab": {
          "base_uri": "https://localhost:8080/"
        },
        "id": "y3MGkJG2feQ3",
        "outputId": "091140bd-a77b-471b-c609-9259c372a116"
      },
      "execution_count": 20,
      "outputs": [
        {
          "output_type": "execute_result",
          "data": {
            "text/plain": [
              "True"
            ]
          },
          "metadata": {},
          "execution_count": 20
        }
      ]
    },
    {
      "cell_type": "code",
      "source": [
        "# 조건 판단 연습 수정 , 수행할 명령문이 한줄이면 붙여쓰기 가능, else 키워드 뒤에는 조건 삭제\n",
        "\n",
        "score = int(input(\"Enter your score:\"))\n",
        "if score >= 90: grade = 'A'\n",
        "elif score >= 80: grade = 'B'\n",
        "elif score >= 70: grade = 'C'\n",
        "elif score >= 60: grade = 'D'\n",
        "else: grade = 'F'\n",
        "print(grade)"
      ],
      "metadata": {
        "colab": {
          "base_uri": "https://localhost:8080/"
        },
        "id": "H4vb3o56f_vE",
        "outputId": "80529fec-4c56-45c6-e451-c37084605580"
      },
      "execution_count": 22,
      "outputs": [
        {
          "output_type": "stream",
          "name": "stdout",
          "text": [
            "Enter your score:75\n",
            "C\n"
          ]
        }
      ]
    },
    {
      "cell_type": "code",
      "source": [
        "birthYear = int(input(\"Enter your birthYear:\"))\n",
        "presentYear = 2024\n",
        "age = presentYear - birthYear + 1\n",
        "# 20<= age <= 26 은 처리는 되지만 파이썬에서는 두개 이상의 조건은 and 조건을 사용해야한다.\n",
        "if 20 <= age and age <= 26:\n",
        "  print(\"대학생\")\n",
        "elif 17<= age and age< 20:\n",
        "  print(\"고등학생\")\n",
        "elif 14<= age and age <17:\n",
        "  print(\"중학생\")\n",
        "elif 8 <= age and age <14:\n",
        "  print(\"초등학생\")\n",
        "else:\n",
        "  print(\"학생이 아닙니다.\")\n"
      ],
      "metadata": {
        "colab": {
          "base_uri": "https://localhost:8080/"
        },
        "id": "E1Hjm17Qq9CC",
        "outputId": "131b9107-e82e-4851-a9cc-5ca7b58f437c"
      },
      "execution_count": 24,
      "outputs": [
        {
          "output_type": "stream",
          "name": "stdout",
          "text": [
            "Enter your birthYear:2001\n",
            "대학생\n"
          ]
        }
      ]
    },
    {
      "cell_type": "markdown",
      "source": [
        "**반복문이란?**<br>\n",
        "***\n",
        "- 정해진 동작을 반복적으로 수행하게 하는 명령문 <br>\n",
        "- 프로그램 예시 in 생활 <br>\n",
        "  * 100명의 학생에 성적을 산출할때\n",
        "  * 검색 결과를 출력해줄때\n",
        "  * 워드에서 단어바꾸기 명령 실행\n",
        "\n",
        "- 반복문은 **반복시작 조건, 종료조건, 수행명령** 으로 구성됨<br>\n",
        "- 반복문 역시 반복 구문은 **들여쓰기 와 block**으로 구분됨 <br>\n",
        "***파이썬은 반복문으로 for, while 등의 명령 키워드를 사용함**\n",
        "\n",
        "\n"
      ],
      "metadata": {
        "id": "T9xTOJk64Moz"
      }
    },
    {
      "cell_type": "code",
      "source": [
        "for looper in[1,2,3,4,5]:\n",
        "  print(f\"{looper} : Hello\")"
      ],
      "metadata": {
        "colab": {
          "base_uri": "https://localhost:8080/"
        },
        "id": "MrMhh2DX5fIg",
        "outputId": "24097860-7957-442e-8b50-a50ba88fa198"
      },
      "execution_count": 32,
      "outputs": [
        {
          "output_type": "stream",
          "name": "stdout",
          "text": [
            "1 : Hello\n",
            "2 : Hello\n",
            "3 : Hello\n",
            "4 : Hello\n",
            "5 : Hello\n"
          ]
        }
      ]
    },
    {
      "cell_type": "markdown",
      "source": [
        "**range() 사용하기**\n",
        "~~~python\n",
        "for looper in range(0,5):\n",
        "    print(\"hello\")\n",
        "~~~\n",
        "- 왜 range(1,5) 가 아닌 range(0,5) 인가?\n",
        ": range()는 마지막 숫자 바로 앞까지 리스트를 만들어줌. <br>\n",
        "즉, range(1,5) = [1,2,3,4] 까지 같은 의미 <br>\n",
        "range(0,5) = [0,1,2,3,4]= range(5)는 같은 의미"
      ],
      "metadata": {
        "id": "vM_4eOgU6WiH"
      }
    },
    {
      "cell_type": "code",
      "source": [
        "for looper in range(0,5):\n",
        "  print(\"Hello\")"
      ],
      "metadata": {
        "colab": {
          "base_uri": "https://localhost:8080/"
        },
        "id": "_-9KwwVU6Jri",
        "outputId": "4e46335f-38cc-45b3-bad9-4e0480bee7b1"
      },
      "execution_count": 33,
      "outputs": [
        {
          "output_type": "stream",
          "name": "stdout",
          "text": [
            "Hello\n",
            "Hello\n",
            "Hello\n",
            "Hello\n",
            "Hello\n"
          ]
        }
      ]
    },
    {
      "cell_type": "code",
      "source": [
        "list(range(5))"
      ],
      "metadata": {
        "colab": {
          "base_uri": "https://localhost:8080/"
        },
        "id": "AMftVeu07cU4",
        "outputId": "d96aa901-2e09-47e1-a2dc-3161b13eadf6"
      },
      "execution_count": 34,
      "outputs": [
        {
          "output_type": "execute_result",
          "data": {
            "text/plain": [
              "[0, 1, 2, 3, 4]"
            ]
          },
          "metadata": {},
          "execution_count": 34
        }
      ]
    },
    {
      "cell_type": "code",
      "source": [
        "for looper in range(0,5):\n",
        "  print(f\"{looper} : Hello\")"
      ],
      "metadata": {
        "colab": {
          "base_uri": "https://localhost:8080/"
        },
        "id": "mAKmXjLQ7qIO",
        "outputId": "2032a6d8-f145-4a7c-ee75-e40a07db5a0e"
      },
      "execution_count": 35,
      "outputs": [
        {
          "output_type": "stream",
          "name": "stdout",
          "text": [
            "0 : Hello\n",
            "1 : Hello\n",
            "2 : Hello\n",
            "3 : Hello\n",
            "4 : Hello\n"
          ]
        }
      ]
    },
    {
      "cell_type": "markdown",
      "source": [
        "**[알아두면 상식]** 반복문 <br>\n",
        "**1. 반복문 변수명**\n",
        "- 임시적인 반복변수는 대부분 i,j,k로 정함\n",
        "- 이것은 수학에서 변수를 x,y,z로 정하는 것과  유사한 관례 <br>\n",
        "\n",
        "**2. 0부터 시작하는 반복문** <br>\n",
        "- 반복문은 대부분 0부터 반복을 시작\n",
        "- 이것도 일종의 관례로 1부터 시작하기 때문에 0부터 시작하는 걸 권장\n",
        "- 2진수가 0부터 시작하기 때문에 0부터 시작하는 걸 권장 <br>\n",
        "\n",
        "**3. 무한 루프** <br>\n",
        "- 반복명령이 끝나지 않는 프로그램 오류\n",
        "- CPU와 메모리 등 컴퓨터의 리소스를 과다하게 점유 <br>\n",
        "\n"
      ],
      "metadata": {
        "id": "T94x8fMA8Gj_"
      }
    },
    {
      "cell_type": "markdown",
      "source": [
        "**for문의 다양한 반복문 조건 표현**\n",
        "***\n",
        "- 문자열을 한자리씩 리스트로 처리 - 시퀀스형 자료형\n",
        "~~~python\n",
        "for i in \"abcdefg\":\n",
        "    print(i)\n",
        "    ~~~\n",
        "\n",
        "- 각각의 문자열 리스트로 처리\n",
        "~~~python\n",
        "for i in [\"americano\", \"latte\", \"frafuchino\"]:\n",
        "    print(i)\n",
        "    ~~~    "
      ],
      "metadata": {
        "id": "W--1O5RL9rmz"
      }
    },
    {
      "cell_type": "code",
      "source": [
        "for i in \"abcdefg\":\n",
        "  print(i)"
      ],
      "metadata": {
        "colab": {
          "base_uri": "https://localhost:8080/"
        },
        "id": "wOWUPCUj6G-q",
        "outputId": "40057667-30ac-4812-d867-4a222dfa3d18"
      },
      "execution_count": 36,
      "outputs": [
        {
          "output_type": "stream",
          "name": "stdout",
          "text": [
            "a\n",
            "b\n",
            "c\n",
            "d\n",
            "e\n",
            "f\n",
            "g\n"
          ]
        }
      ]
    },
    {
      "cell_type": "code",
      "source": [
        "for i in [\"americano\", \"latte\", \"frafuchino\"]:\n",
        "  print(i)"
      ],
      "metadata": {
        "colab": {
          "base_uri": "https://localhost:8080/"
        },
        "id": "Fp2yln5n-cPd",
        "outputId": "0e44db60-d3c8-49e4-a787-1b11fc05d50f"
      },
      "execution_count": 37,
      "outputs": [
        {
          "output_type": "stream",
          "name": "stdout",
          "text": [
            "americano\n",
            "latte\n",
            "frafuchino\n"
          ]
        }
      ]
    },
    {
      "cell_type": "markdown",
      "source": [
        "- 간격을 두고 세기\n",
        "~~~python\n",
        "for i in range(1,10,2): #1부터 10까지 2씩 증가시키면서 반복문 수행\n",
        "  print(i)\n",
        "  ~~~\n",
        "- 역순으로 반복문 수행\n",
        "~~~python\n",
        "for i in range(10, 1, -1): # 10부터 1까지 -1씩 감소 시키면서 반복문 수행\n",
        "  print(i)\n",
        "  ~~~  "
      ],
      "metadata": {
        "id": "Dnoy-Y7A-y9q"
      }
    },
    {
      "cell_type": "code",
      "source": [
        "for i in range(1,10,2):\n",
        "  print(i)"
      ],
      "metadata": {
        "colab": {
          "base_uri": "https://localhost:8080/"
        },
        "id": "oSYwvbbe-rfZ",
        "outputId": "25f108d5-c35a-448a-f6d5-8bb9afc532e7"
      },
      "execution_count": 38,
      "outputs": [
        {
          "output_type": "stream",
          "name": "stdout",
          "text": [
            "1\n",
            "3\n",
            "5\n",
            "7\n",
            "9\n"
          ]
        }
      ]
    },
    {
      "cell_type": "code",
      "source": [
        "for i in range(10,1,-1):\n",
        "  print(i)"
      ],
      "metadata": {
        "colab": {
          "base_uri": "https://localhost:8080/"
        },
        "id": "V9o3DoAh_do8",
        "outputId": "7f51686e-9052-4540-a72b-717d6a768c5a"
      },
      "execution_count": 39,
      "outputs": [
        {
          "output_type": "stream",
          "name": "stdout",
          "text": [
            "10\n",
            "9\n",
            "8\n",
            "7\n",
            "6\n",
            "5\n",
            "4\n",
            "3\n",
            "2\n"
          ]
        }
      ]
    },
    {
      "cell_type": "markdown",
      "source": [
        "**while문**\n",
        "-조건이 만족하는 동안 반복 명령문을 실행\n",
        "~~~python\n",
        "i = 1 #i변수에 1 할당\n",
        "while i < 10: #i가 10 미만인지 판단\n",
        "  print(i) #조건에 만족할때 i 출력, i에 1을 더함\n",
        "  i += 1 #i가 10이 되면 반복 종료\n",
        "  ~~~\n",
        "  **for문은 while문으로 변환 가능**<br>\n",
        "  -(반복 실행 횟수를 명확히 알때)<br>\n",
        "  ~~~python\n",
        "  for i in range(0,5):\n",
        "    print(i)\n",
        "  ~~~\n",
        "  -(반복 실행횟수가 명확하지 않을때)<br>\n",
        "  ~~~python\n",
        "  i = 0\n",
        "  while i < 5:\n",
        "    print(i)\n",
        "    i = i+ 1\n",
        "  ~~~  "
      ],
      "metadata": {
        "id": "E58wDEqt_yDt"
      }
    },
    {
      "cell_type": "code",
      "source": [
        "i = 0\n",
        "while i < 10:\n",
        "  print(f\"{i} : Hello\")\n",
        "  i += 1"
      ],
      "metadata": {
        "colab": {
          "base_uri": "https://localhost:8080/"
        },
        "id": "lhyrM9u46FVq",
        "outputId": "880658df-2c2c-4d8e-b945-fe6a907ec818"
      },
      "execution_count": 40,
      "outputs": [
        {
          "output_type": "stream",
          "name": "stdout",
          "text": [
            "0 : Hello\n",
            "1 : Hello\n",
            "2 : Hello\n",
            "3 : Hello\n",
            "4 : Hello\n",
            "5 : Hello\n",
            "6 : Hello\n",
            "7 : Hello\n",
            "8 : Hello\n",
            "9 : Hello\n"
          ]
        }
      ]
    },
    {
      "cell_type": "markdown",
      "source": [
        "**반복의 제어 - break, continue**\n",
        "\n",
        "**break 특정 조건에서 반복종료**\n",
        "~~~python\n",
        "for i in range(10):\n",
        "  if i == 5: break #i 가 5가되면 반복종료\n",
        "  print(i)\n",
        "print(\"EOP\") #반복종료 후 \"EOP\" 출력\n",
        "~~~\n",
        "**continue 특정 조건에서 남은 명령 반복명령 skip**\n",
        "~~~python\n",
        "for i in range(10):\n",
        "  if i == 5: continue # i가 5가 되면 i를 출력하지 않음\n",
        "  print(i)\n",
        "print(\"EOP\") # 반복종료 후 \"EOP\"출력\n",
        "~~~  \n"
      ],
      "metadata": {
        "id": "dQ5lSJhpCAP0"
      }
    },
    {
      "cell_type": "code",
      "source": [
        "for i in range(10):\n",
        "  if i == 5: break\n",
        "  print(i)\n",
        "print(\"EOP\")"
      ],
      "metadata": {
        "colab": {
          "base_uri": "https://localhost:8080/"
        },
        "id": "6KuaSjMNBzr4",
        "outputId": "270c1388-81b0-4376-ba82-3619c10ac384"
      },
      "execution_count": 41,
      "outputs": [
        {
          "output_type": "stream",
          "name": "stdout",
          "text": [
            "0\n",
            "1\n",
            "2\n",
            "3\n",
            "4\n",
            "EOP\n"
          ]
        }
      ]
    },
    {
      "cell_type": "code",
      "source": [
        "for i in range(10):\n",
        "  if i == 5: continue\n",
        "  print(i)\n",
        "print(\"EOP\")"
      ],
      "metadata": {
        "colab": {
          "base_uri": "https://localhost:8080/"
        },
        "id": "4WHy0tuDDPtB",
        "outputId": "090872f9-2140-4c73-f49a-bc8d320abbd1"
      },
      "execution_count": 42,
      "outputs": [
        {
          "output_type": "stream",
          "name": "stdout",
          "text": [
            "0\n",
            "1\n",
            "2\n",
            "3\n",
            "4\n",
            "6\n",
            "7\n",
            "8\n",
            "9\n",
            "EOP\n"
          ]
        }
      ]
    },
    {
      "cell_type": "code",
      "source": [
        "for i in range(10):\n",
        "  print(i,)\n",
        "else:\n",
        "  print(\"EOP\")"
      ],
      "metadata": {
        "colab": {
          "base_uri": "https://localhost:8080/"
        },
        "id": "67Y6BloIDaxX",
        "outputId": "271a8de4-3252-4d75-bf82-1e7d5136cbbe"
      },
      "execution_count": 44,
      "outputs": [
        {
          "output_type": "stream",
          "name": "stdout",
          "text": [
            "0\n",
            "1\n",
            "2\n",
            "3\n",
            "4\n",
            "5\n",
            "6\n",
            "7\n",
            "8\n",
            "9\n",
            "EOP\n"
          ]
        }
      ]
    },
    {
      "cell_type": "code",
      "source": [
        "# 연습 구구단 계산기\n",
        "gugudan = int(input(\"구구단 몇단을 계산할까요?\"))\n",
        "print(f\"{gugudan}단을 계산합니다.\")\n",
        "for i in range(1, 10):\n",
        "  print(f\"{gugudan} * {i} = {gugudan * i}\")"
      ],
      "metadata": {
        "colab": {
          "base_uri": "https://localhost:8080/"
        },
        "id": "WN0XsE2nD3MY",
        "outputId": "54a3dbc3-4b2c-4c4f-e0d4-737bcdc1a02b"
      },
      "execution_count": 1,
      "outputs": [
        {
          "output_type": "stream",
          "name": "stdout",
          "text": [
            "구구단 몇단을 계산할까요?5\n",
            "5단을 계산합니다.\n",
            "5 * 1 = 5\n",
            "5 * 2 = 10\n",
            "5 * 3 = 15\n",
            "5 * 4 = 20\n",
            "5 * 5 = 25\n",
            "5 * 6 = 30\n",
            "5 * 7 = 35\n",
            "5 * 8 = 40\n",
            "5 * 9 = 45\n"
          ]
        }
      ]
    },
    {
      "cell_type": "code",
      "source": [
        "sentence = \"I love you\"\n",
        "reverse_sentence = \"\"\n",
        "for char in sentence:\n",
        "  print(\"REVERSE #1\", reverse_sentence)\n",
        "  reverse_sentence = char + reverse_sentence\n",
        "  print(\"REVERSE #2\",reverse_sentence)"
      ],
      "metadata": {
        "colab": {
          "base_uri": "https://localhost:8080/"
        },
        "id": "KovqKqsMFL0h",
        "outputId": "35e87574-e4ba-4b7e-d525-118a13bd4121"
      },
      "execution_count": 3,
      "outputs": [
        {
          "output_type": "stream",
          "name": "stdout",
          "text": [
            "REVERSE #1 \n",
            "REVERSE #2 I\n",
            "REVERSE #1 I\n",
            "REVERSE #2  I\n",
            "REVERSE #1  I\n",
            "REVERSE #2 l I\n",
            "REVERSE #1 l I\n",
            "REVERSE #2 ol I\n",
            "REVERSE #1 ol I\n",
            "REVERSE #2 vol I\n",
            "REVERSE #1 vol I\n",
            "REVERSE #2 evol I\n",
            "REVERSE #1 evol I\n",
            "REVERSE #2  evol I\n",
            "REVERSE #1  evol I\n",
            "REVERSE #2 y evol I\n",
            "REVERSE #1 y evol I\n",
            "REVERSE #2 oy evol I\n",
            "REVERSE #1 oy evol I\n",
            "REVERSE #2 uoy evol I\n"
          ]
        }
      ]
    },
    {
      "cell_type": "code",
      "source": [
        "decimal = int(input(\"Enter a decimal number:\"))\n",
        "result = \"\"\n",
        "\n",
        "while decimal > 0:\n",
        "  reminder = decimal % 2\n",
        "  decimal = decimal // 2\n",
        "  result = str(reminder) + result\n",
        "print(result)"
      ],
      "metadata": {
        "colab": {
          "base_uri": "https://localhost:8080/"
        },
        "id": "BctxiVeajHc2",
        "outputId": "c41f11f3-0882-401b-d55c-14decfea2d4b"
      },
      "execution_count": 4,
      "outputs": [
        {
          "output_type": "stream",
          "name": "stdout",
          "text": [
            "Enter a decimal number:10\n",
            "1010\n"
          ]
        }
      ]
    },
    {
      "cell_type": "code",
      "source": [
        "# Debugging Loop\n",
        "print(\"input decimal number:\")\n",
        "decimal = int(input())\n",
        "result = \"\"\n",
        "loop_counter = 0\n",
        "while (decimal > 0):\n",
        "  temp_decimal_input = decimal\n",
        "  temp_result = result\n",
        "\n",
        "  reminder = decimal % 2\n",
        "  decimal = decimal // 2\n",
        "  result = str(reminder) + result\n",
        "\n",
        "  print(\"----------\", loop_counter, \"loop value check ----------\")\n",
        "  print(\"Initial decimal:\", temp_decimal_input,\n",
        "                \", Reminder:\", reminder,\n",
        "                \", Initial result\", temp_result)\n",
        "  print(\"Output decimal:\", decimal,\n",
        "        \"Output result:\", result)\n",
        "  print(\"-------------------------------------------------------\")\n",
        "  print(\"\")\n",
        "\n",
        "  loop_counter += 1\n",
        "\n",
        "print(\"Binary number is\", result)\n"
      ],
      "metadata": {
        "colab": {
          "base_uri": "https://localhost:8080/"
        },
        "id": "MTFElGbbkM0E",
        "outputId": "2d24b8c6-4cf8-4ba9-ce8b-5a09b74087a1"
      },
      "execution_count": 6,
      "outputs": [
        {
          "output_type": "stream",
          "name": "stdout",
          "text": [
            "input decimal number:\n",
            "100\n",
            "---------- 0 loop value check ----------\n",
            "Initial decimal: 100 , Reminder: 0 , Initial result \n",
            "Output decimal: 50 Output result: 0\n",
            "-------------------------------------------------------\n",
            "\n",
            "---------- 1 loop value check ----------\n",
            "Initial decimal: 50 , Reminder: 0 , Initial result 0\n",
            "Output decimal: 25 Output result: 00\n",
            "-------------------------------------------------------\n",
            "\n",
            "---------- 2 loop value check ----------\n",
            "Initial decimal: 25 , Reminder: 1 , Initial result 00\n",
            "Output decimal: 12 Output result: 100\n",
            "-------------------------------------------------------\n",
            "\n",
            "---------- 3 loop value check ----------\n",
            "Initial decimal: 12 , Reminder: 0 , Initial result 100\n",
            "Output decimal: 6 Output result: 0100\n",
            "-------------------------------------------------------\n",
            "\n",
            "---------- 4 loop value check ----------\n",
            "Initial decimal: 6 , Reminder: 0 , Initial result 0100\n",
            "Output decimal: 3 Output result: 00100\n",
            "-------------------------------------------------------\n",
            "\n",
            "---------- 5 loop value check ----------\n",
            "Initial decimal: 3 , Reminder: 1 , Initial result 00100\n",
            "Output decimal: 1 Output result: 100100\n",
            "-------------------------------------------------------\n",
            "\n",
            "---------- 6 loop value check ----------\n",
            "Initial decimal: 1 , Reminder: 1 , Initial result 100100\n",
            "Output decimal: 0 Output result: 1100100\n",
            "-------------------------------------------------------\n",
            "\n",
            "Binary number is 1100100\n"
          ]
        }
      ]
    },
    {
      "cell_type": "code",
      "source": [
        "# <연습> 숫자찾기 게임\n",
        "import random\n",
        "random_number = random.randint(1,100)\n",
        "#print(random_number)\n",
        "print(\"숫자를 맞춰보세요(1~100)\")\n",
        "while True:\n",
        "    input_number = int(input())\n",
        "    if random_number == input_number :\n",
        "        print(f\"정답입니다. 입력한 숫자는 {input_number}\")\n",
        "        break\n",
        "    elif input_number > random_number:\n",
        "        print(\"숫자가 너무 큽니다.\")\n",
        "    else :\n",
        "        print(\"숫자가 너무 작습니다.\")"
      ],
      "metadata": {
        "colab": {
          "base_uri": "https://localhost:8080/"
        },
        "id": "DwYbYw5BFIZN",
        "outputId": "ea0b15ff-982f-4648-e400-86164114a26e"
      },
      "execution_count": 15,
      "outputs": [
        {
          "output_type": "stream",
          "name": "stdout",
          "text": [
            "숫자를 맞춰보세요(1~100)\n",
            "99\n",
            "숫자가 너무 큽니다.\n",
            "48\n",
            "숫자가 너무 큽니다.\n",
            "23\n",
            "숫자가 너무 작습니다.\n",
            "29\n",
            "숫자가 너무 작습니다.\n",
            "35\n",
            "숫자가 너무 작습니다.\n",
            "30\n",
            "숫자가 너무 작습니다.\n",
            "45\n",
            "숫자가 너무 큽니다.\n",
            "40\n",
            "정답입니다. 입력한 숫자는 40\n"
          ]
        }
      ]
    },
    {
      "cell_type": "code",
      "source": [
        "# 연습 연속적인 구구단 입력\n",
        "\n",
        "print(\"구구단 몇 단을 계산할까요(1~9)?\")\n",
        "\n",
        "while True:\n",
        "    dan = int(input())\n",
        "    if 1 <= dan <= 9:\n",
        "        print(f\"구구단 {dan}을 계산합니다.\")\n",
        "        for i in range(1,10):\n",
        "            print(f\"{dan} * {i} = {dan*i}\")\n",
        "        i += 1\n",
        "    elif dan == 0:\n",
        "        print(\"구구단 게임을 종료합니다.\")\n",
        "        break\n",
        "    else:\n",
        "        print(\"잘못 입력하셨습니다.\")\n"
      ],
      "metadata": {
        "colab": {
          "base_uri": "https://localhost:8080/"
        },
        "id": "Dy383IWPrNkX",
        "outputId": "2d948f6e-4941-483d-cb03-26eec2187cbd"
      },
      "execution_count": 17,
      "outputs": [
        {
          "output_type": "stream",
          "name": "stdout",
          "text": [
            "구구단 몇 단을 계산할까요(1~9)?\n",
            "5\n",
            "구구단 5을 계산합니다.\n",
            "5 * 1 = 5\n",
            "5 * 2 = 10\n",
            "5 * 3 = 15\n",
            "5 * 4 = 20\n",
            "5 * 5 = 25\n",
            "5 * 6 = 30\n",
            "5 * 7 = 35\n",
            "5 * 8 = 40\n",
            "5 * 9 = 45\n",
            "9\n",
            "구구단 9을 계산합니다.\n",
            "9 * 1 = 9\n",
            "9 * 2 = 18\n",
            "9 * 3 = 27\n",
            "9 * 4 = 36\n",
            "9 * 5 = 45\n",
            "9 * 6 = 54\n",
            "9 * 7 = 63\n",
            "9 * 8 = 72\n",
            "9 * 9 = 81\n",
            "10\n",
            "잘못 입력하셨습니다.\n",
            "0\n",
            "구구단 게임을 종료합니다.\n"
          ]
        }
      ]
    },
    {
      "cell_type": "code",
      "source": [],
      "metadata": {
        "id": "M_-IUeWjrJb0"
      },
      "execution_count": null,
      "outputs": []
    },
    {
      "cell_type": "code",
      "source": [],
      "metadata": {
        "id": "FDcEiUJDrF4y"
      },
      "execution_count": null,
      "outputs": []
    },
    {
      "cell_type": "code",
      "source": [],
      "metadata": {
        "id": "rjNS_01OD0ar"
      },
      "execution_count": null,
      "outputs": []
    }
  ]
}