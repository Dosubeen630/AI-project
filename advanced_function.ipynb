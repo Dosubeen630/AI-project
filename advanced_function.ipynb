{
  "nbformat": 4,
  "nbformat_minor": 0,
  "metadata": {
    "colab": {
      "provenance": [],
      "authorship_tag": "ABX9TyOSWmLkoFej7lhQW9ldvl7F",
      "include_colab_link": true
    },
    "kernelspec": {
      "name": "python3",
      "display_name": "Python 3"
    },
    "language_info": {
      "name": "python"
    }
  },
  "cells": [
    {
      "cell_type": "markdown",
      "metadata": {
        "id": "view-in-github",
        "colab_type": "text"
      },
      "source": [
        "<a href=\"https://colab.research.google.com/github/Dosubeen630/AI-project/blob/main/advanced_function.ipynb\" target=\"_parent\"><img src=\"https://colab.research.google.com/assets/colab-badge.svg\" alt=\"Open In Colab\"/></a>"
      ]
    },
    {
      "cell_type": "code",
      "source": [],
      "metadata": {
        "id": "4IAKPzB8YKIg"
      },
      "execution_count": null,
      "outputs": []
    },
    {
      "cell_type": "markdown",
      "source": [
        "**파이썬 함수 호출 방식**\n",
        "\n",
        "- 파이썬은 객체의 주소가 함수로 전달되는 방식\n",
        "- 전달된 객체를 참조하여 변경시 호출자에게 영향을 주나,<br>\n",
        "새로운 객체를 만들 경우 호출자에게 영향을 주지않음\n",
        "~~~python\n",
        "def spam(eggs):\n",
        "    eggs.append(1) #기존 객체의 주소값에 [1] 추가\n",
        "    eggs = [2,3]   #새로운 객체 생성\n",
        "ham = [0]\n",
        "spam(ham)\n",
        "print(ham) #[0,1]\n",
        "~~~\n",
        "\n",
        "**swap**\n",
        "- a = [1,2,3,4,5]일때, 아래의 함수 중 실제 swap이 일어나는 함수는?\n",
        "~~~python\n",
        "def swap_value(x,y): #값만 교환\n",
        "        temp = x\n",
        "        x = y\n",
        "        y = temp\n",
        " ~~~\n",
        "\n",
        " ~~~python\n",
        " def swap_offset(offset_x, offset_y): #주소값만 교환\n",
        "        temp = a[offset_x]\n",
        "        a[offset_x] = a[offset_y]\n",
        "        a[offset_y] = temp\n",
        " ~~~\n",
        "\n",
        " ~~~python\n",
        " def swap_reference(list,offset_x, offset_y): #list 자체를 교환\n",
        "        temp = list[offset_x]\n",
        "        list[offset_x] = list[offset_y]\n",
        "        list[offset_y] = temp\n",
        " ~~~                     \n",
        "\n",
        "\n"
      ],
      "metadata": {
        "id": "pY0TYaX0kEh9"
      }
    },
    {
      "cell_type": "code",
      "source": [
        "def swap_value(x,y): #값만 교환\n",
        "        temp = x\n",
        "        x = y\n",
        "        y = temp\n",
        "\n",
        "def swap_offset(offset_x, offset_y): #주소값만 교환\n",
        "      temp = a[offset_x]\n",
        "      a[offset_x] = a[offset_y]\n",
        "      a[offset_y] = temp\n",
        "\n",
        "def swap_reference(list,offset_x, offset_y): #list 자체를 교환\n",
        "      temp = list[offset_x]\n",
        "      list[offset_x] = list[offset_y]\n",
        "      list[offset_y] = temp"
      ],
      "metadata": {
        "id": "xIFGkuQxttYf"
      },
      "execution_count": 5,
      "outputs": []
    },
    {
      "cell_type": "code",
      "source": [
        "ex = [1,2,3,4,5]\n",
        "swap_value(ex[0],ex[1])\n",
        "print(ex)"
      ],
      "metadata": {
        "colab": {
          "base_uri": "https://localhost:8080/"
        },
        "id": "A7pgwhrhnHDm",
        "outputId": "bdbdc896-e366-4954-b6ea-b7f40a65335a"
      },
      "execution_count": 6,
      "outputs": [
        {
          "output_type": "stream",
          "name": "stdout",
          "text": [
            "[1, 2, 3, 4, 5]\n"
          ]
        }
      ]
    },
    {
      "cell_type": "code",
      "source": [
        "def swap_offset(offset_x, offset_y): #주소값만 교환\n",
        "      temp = ex[offset_x]\n",
        "      ex[offset_x] = ex[offset_y]\n",
        "      ex[offset_y] = temp"
      ],
      "metadata": {
        "id": "CajRS9xpnSTQ"
      },
      "execution_count": 8,
      "outputs": []
    },
    {
      "cell_type": "code",
      "source": [
        "swap_offset(0,1)\n",
        "ex"
      ],
      "metadata": {
        "colab": {
          "base_uri": "https://localhost:8080/"
        },
        "id": "2LnPjNlzn4ix",
        "outputId": "19c11e58-b4f9-4d23-bc90-0057606ceffa"
      },
      "execution_count": 9,
      "outputs": [
        {
          "output_type": "execute_result",
          "data": {
            "text/plain": [
              "[2, 1, 3, 4, 5]"
            ]
          },
          "metadata": {},
          "execution_count": 9
        }
      ]
    },
    {
      "cell_type": "code",
      "source": [
        "def swap_reference(list,offset_x, offset_y): #list 자체를 교환\n",
        "      temp = list[offset_x]\n",
        "      list[offset_x] = list[offset_y]\n",
        "      list[offset_y] = temp"
      ],
      "metadata": {
        "id": "OATl9gVkn9pT"
      },
      "execution_count": 10,
      "outputs": []
    },
    {
      "cell_type": "code",
      "source": [
        "ex = [1,2,3,4,5]\n",
        "swap_reference(ex,3,4)\n",
        "ex"
      ],
      "metadata": {
        "colab": {
          "base_uri": "https://localhost:8080/"
        },
        "id": "8g9OKO6ZoZ-w",
        "outputId": "e3b88419-527b-4554-d455-5f3f63be3cf6"
      },
      "execution_count": 11,
      "outputs": [
        {
          "output_type": "execute_result",
          "data": {
            "text/plain": [
              "[1, 2, 3, 5, 4]"
            ]
          },
          "metadata": {},
          "execution_count": 11
        }
      ]
    },
    {
      "cell_type": "code",
      "source": [
        "def swap_reference(list,offset_x, offset_y): #list 자체를 교환\n",
        "      temp_list = list_ex[:]\n",
        "      temp = list[offset_x]\n",
        "      list[offset_x] = list[offset_y]\n",
        "      list[offset_y] = temp\n",
        "      temp = list[offset_x]\n",
        "      list[offset_x] = list[offset_y]\n",
        "      list[offset_y] = temp   #     값에 변화를 주기 전에 먼저 원래 값을 복사해두고 사용해라."
      ],
      "metadata": {
        "id": "-mAsapF3ohlk"
      },
      "execution_count": null,
      "outputs": []
    },
    {
      "cell_type": "code",
      "source": [
        "# 변수의 범위\n",
        "def calculate(x,y):\n",
        "    total = x + y\n",
        "    print(\"In Function\")\n",
        "    print(\"a:\", str(a), \"b:\", str(b), \"a+b:\", str(a+b), \"total:\", str(total))\n",
        "    return total\n",
        "\n",
        "a = 5\n",
        "b = 7\n",
        "total = 0\n",
        "print(\"In Program - 1\")\n",
        "print(\"a:\", str(a), \"b:\", str(b), \"a+b:\", str(a+b))\n",
        "\n",
        "sum = calculate(a,b)\n",
        "print(\"After Calculation\")\n",
        "print(\"Total:\", str(total), \"sum:\", str(sum))"
      ],
      "metadata": {
        "id": "bE9wVOAipkUd"
      },
      "execution_count": null,
      "outputs": []
    },
    {
      "cell_type": "code",
      "source": [
        "# 재귀함수\n",
        "def factorial(n):\n",
        "    if n == 1:\n",
        "        return 1\n",
        "    else:\n",
        "        return n * factorial(n-1)\n",
        "print(factorial(int(input(\"Input Number for Factorial Calculation:\"))))\n",
        "\n",
        "#연습문제 - 위의 재귀함수코드를 일반 루프 코드로 변경해보기!\n",
        "\n",
        "def factorial_loop(n):\n",
        "    result = 1\n",
        "    for i in range(1,n+1):\n",
        "        result *= i\n",
        "    return result\n",
        "print(factorial_loop(int(input(\"Input Number for Factorial Calculation:\"))))"
      ],
      "metadata": {
        "colab": {
          "base_uri": "https://localhost:8080/"
        },
        "id": "J7aQF9vxtm6k",
        "outputId": "949272e0-18d7-40e3-8133-37d77bec44c4"
      },
      "execution_count": 12,
      "outputs": [
        {
          "output_type": "stream",
          "name": "stdout",
          "text": [
            "Input Number for Factorial Calculation:5\n",
            "120\n",
            "Input Number for Factorial Calculation:5\n",
            "120\n"
          ]
        }
      ]
    },
    {
      "cell_type": "code",
      "source": [],
      "metadata": {
        "id": "gqhv_SEkudH_"
      },
      "execution_count": null,
      "outputs": []
    }
  ]
}